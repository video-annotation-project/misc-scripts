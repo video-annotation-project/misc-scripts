{
 "cells": [
  {
   "cell_type": "code",
   "execution_count": 27,
   "metadata": {},
   "outputs": [],
   "source": [
    "import datetime\n",
    "import psycopg2 # Postgresql\n",
    "import pandas as pd # Ez table management\n",
    "from dotenv import load_dotenv # Load .env strings\n",
    "import os # console commands\n",
    "import boto3 # AWS querier"
   ]
  },
  {
   "cell_type": "code",
   "execution_count": 6,
   "metadata": {},
   "outputs": [],
   "source": [
    "# Note: to load .env video-annotation-tool must be one directory up\n",
    "load_dotenv(dotenv_path=\"../.env\")\n",
    "S3_BUCKET = os.getenv('AWS_S3_BUCKET_NAME')\n",
    "SRC_IMG_FOLDER = os.getenv('AWS_S3_BUCKET_ANNOTATIONS_FOLDER')\n",
    "DB_NAME = os.getenv(\"DB_NAME\")\n",
    "DB_HOST = os.getenv(\"DB_HOST\")\n",
    "DB_USER = os.getenv(\"DB_USER\")\n",
    "DB_PASSWORD = os.getenv(\"DB_PASSWORD\")\n",
    "A_KEY = os.getenv(\"AWS_ACCESS_KEY_ID\")\n",
    "A_SEC = os.getenv(\"AWS_SECRET_ACCESS_KEY\")"
   ]
  },
  {
   "cell_type": "code",
   "execution_count": 7,
   "metadata": {},
   "outputs": [],
   "source": [
    "# Connect to database using .env variables\n",
    "def queryDB(query, params=None):\n",
    "    conn = psycopg2.connect(database = DB_NAME,\n",
    "                        user = DB_USER,\n",
    "                        password = DB_PASSWORD,\n",
    "                        host = DB_HOST,\n",
    "                        port = \"5432\")\n",
    "    # Use pandas to read queries into a dataframe\n",
    "    result = pd.read_sql_query(query, conn, params=params)\n",
    "    conn.close() # Close postgresql\n",
    "    return result"
   ]
  },
  {
   "cell_type": "markdown",
   "metadata": {},
   "source": [
    "# Remove old csv of s3Images"
   ]
  },
  {
   "cell_type": "code",
   "execution_count": 8,
   "metadata": {},
   "outputs": [
    {
     "ename": "FileNotFoundError",
     "evalue": "[Errno 2] No such file or directory: 's3Images.csv'",
     "output_type": "error",
     "traceback": [
      "\u001b[0;31m---------------------------------------------------------------------------\u001b[0m",
      "\u001b[0;31mFileNotFoundError\u001b[0m                         Traceback (most recent call last)",
      "\u001b[0;32m<ipython-input-8-2371fb073168>\u001b[0m in \u001b[0;36m<module>\u001b[0;34m\u001b[0m\n\u001b[1;32m      1\u001b[0m \u001b[0;31m# Remove old s3Images\u001b[0m\u001b[0;34m\u001b[0m\u001b[0;34m\u001b[0m\u001b[0;34m\u001b[0m\u001b[0m\n\u001b[0;32m----> 2\u001b[0;31m \u001b[0mos\u001b[0m\u001b[0;34m.\u001b[0m\u001b[0mremove\u001b[0m\u001b[0;34m(\u001b[0m\u001b[0;34m's3Images.csv'\u001b[0m\u001b[0;34m)\u001b[0m\u001b[0;34m\u001b[0m\u001b[0;34m\u001b[0m\u001b[0m\n\u001b[0m",
      "\u001b[0;31mFileNotFoundError\u001b[0m: [Errno 2] No such file or directory: 's3Images.csv'"
     ]
    }
   ],
   "source": [
    "# Remove old s3Images\n",
    "os.remove('s3Images.csv')"
   ]
  },
  {
   "cell_type": "markdown",
   "metadata": {},
   "source": [
    "# Create csv of image names in lubo's s3 bucket"
   ]
  },
  {
   "cell_type": "code",
   "execution_count": 9,
   "metadata": {},
   "outputs": [],
   "source": [
    "# Get all the image filename\n",
    "with open('s3Images.csv','a') as fd:\n",
    "    # Connect to AWS\n",
    "    session = boto3.Session(aws_access_key_id = A_KEY, aws_secret_access_key = A_SEC)\n",
    "    # Access simple storage and s3 bucket\n",
    "    s3 = session.resource('s3')\n",
    "    bucket = s3.Bucket(\"lubomirstanchev\")\n",
    "    # Iterate through bucket folder test\n",
    "    for index, obj in enumerate(bucket.objects.filter(Delimiter='/',Prefix='test/')):\n",
    "        if index >= 1:\n",
    "            # Make csv of images in s3 bucket\n",
    "            fd.write(obj.key + '\\n')"
   ]
  },
  {
   "cell_type": "markdown",
   "metadata": {},
   "source": [
    "# Get all image names in database"
   ]
  },
  {
   "cell_type": "code",
   "execution_count": 10,
   "metadata": {},
   "outputs": [],
   "source": [
    "database = queryDB('''\n",
    "    Select\n",
    "        annotations.*, videos.filename\n",
    "    FROM\n",
    "        annotations\n",
    "    LEFT JOIN\n",
    "        videos\n",
    "    ON\n",
    "        videos.id=videoid\n",
    "''')"
   ]
  },
  {
   "cell_type": "markdown",
   "metadata": {},
   "source": [
    "# Read in s3 image names into memory"
   ]
  },
  {
   "cell_type": "code",
   "execution_count": 11,
   "metadata": {},
   "outputs": [],
   "source": [
    "s3Images = pd.read_csv(\"s3Images.csv\", header=None)"
   ]
  },
  {
   "cell_type": "markdown",
   "metadata": {},
   "source": [
    "# Number of images in database"
   ]
  },
  {
   "cell_type": "code",
   "execution_count": 12,
   "metadata": {},
   "outputs": [
    {
     "data": {
      "text/plain": "2340907"
     },
     "execution_count": 12,
     "metadata": {},
     "output_type": "execute_result"
    }
   ],
   "source": [
    "database.shape[0]"
   ]
  },
  {
   "cell_type": "markdown",
   "metadata": {},
   "source": [
    "# Remove extra path info in s3 images names"
   ]
  },
  {
   "cell_type": "code",
   "execution_count": 13,
   "metadata": {},
   "outputs": [],
   "source": [
    "s3Images[0] = s3Images[0].str.split('/', expand=True)[1]\n",
    "s3Images = s3Images[0]"
   ]
  },
  {
   "cell_type": "markdown",
   "metadata": {},
   "source": [
    "# Remove images that exist in the s3 bucket"
   ]
  },
  {
   "cell_type": "code",
   "execution_count": 14,
   "metadata": {},
   "outputs": [],
   "source": [
    "database = database[~(database.image.isin(s3Images) & database.imagewithbox.isin(s3Images))]"
   ]
  },
  {
   "cell_type": "markdown",
   "metadata": {},
   "source": [
    "# Number of images that are missing from the s3 bucket"
   ]
  },
  {
   "cell_type": "code",
   "execution_count": 15,
   "metadata": {},
   "outputs": [
    {
     "name": "stdout",
     "output_type": "stream",
     "text": "There are 81450 missing images\n"
    }
   ],
   "source": [
    "print(f\"There are {database.shape[0]} missing images\")"
   ]
  },
  {
   "cell_type": "markdown",
   "metadata": {},
   "source": [
    "# Explore info about missing images"
   ]
  },
  {
   "cell_type": "code",
   "execution_count": 16,
   "metadata": {},
   "outputs": [
    {
     "data": {
      "text/plain": "32     80330\n13       944\n15       106\n171       20\n569       17\n4         15\n7          8\n12         7\n6          2\n5          1\nName: userid, dtype: int64"
     },
     "execution_count": 16,
     "metadata": {},
     "output_type": "execute_result"
    }
   ],
   "source": [
    "database.userid.value_counts()"
   ]
  },
  {
   "cell_type": "code",
   "execution_count": 17,
   "metadata": {},
   "outputs": [
    {
     "data": {
      "text/plain": "347     23314\n236      8654\n2136     7369\n2137     6287\n506      5235\n        ...  \n2187        1\n359         1\n137         1\n889         1\n1601        1\nName: conceptid, Length: 61, dtype: int64"
     },
     "execution_count": 17,
     "metadata": {},
     "output_type": "execute_result"
    }
   ],
   "source": [
    "database.conceptid.value_counts()"
   ]
  },
  {
   "cell_type": "code",
   "execution_count": 21,
   "metadata": {},
   "outputs": [
    {
     "data": {
      "text/plain": "2019-08-17    15315\n2019-11-30    12261\n2019-12-01    10119\n2019-08-16     8351\n2019-08-20     7900\n2019-08-30     7450\n2019-08-18     6859\n2019-08-15     5617\n2019-08-21     2349\n2019-08-19     2096\n2019-08-28     1176\n2019-08-31      720\n2019-11-21      398\n2019-12-06      140\n2019-12-11      114\n2019-09-16      103\n2019-09-03      100\n2019-12-10       59\n2019-11-20       49\n2019-11-22       43\n2019-11-28       40\n2019-09-06       20\n2020-01-08       20\n2019-11-13       17\n2019-12-18       17\n2019-10-23       13\n2019-12-05       11\n2019-12-23       10\n2019-12-28        9\n2019-10-31        9\n2019-12-17        9\n2019-11-27        8\n2019-09-21        5\n2020-01-10        5\n2019-10-24        4\n2019-07-30        3\n2019-07-31        3\n2019-01-27        2\n2019-10-18        2\n2019-12-03        2\n2019-09-12        2\n2019-08-23        2\n2020-01-16        2\n2019-12-02        2\n2019-11-07        2\n2019-09-20        1\n2020-01-15        1\n2019-09-18        1\n2019-09-13        1\n2019-02-07        1\n2019-12-12        1\n2019-11-01        1\n2019-02-18        1\n2019-02-08        1\n2019-02-15        1\n2019-01-29        1\n2019-08-29        1\nName: dateannotated, dtype: int64"
     },
     "execution_count": 21,
     "metadata": {},
     "output_type": "execute_result"
    }
   ],
   "source": [
    "database.dateannotated.value_counts()"
   ]
  },
  {
   "cell_type": "code",
   "execution_count": 22,
   "metadata": {},
   "outputs": [
    {
     "data": {
      "text/plain": "Index(['id', 'videoid', 'userid', 'conceptid', 'timeinvideo', 'x1', 'y1', 'x2',\n       'y2', 'videowidth', 'videoheight', 'dateannotated', 'image',\n       'imagewithbox', 'comment', 'unsure', 'originalid', 'framenum', 'speed',\n       'verifieddate', 'verifiedby', 'priority', 'oldconceptid', 'oldx1',\n       'oldy1', 'oldx2', 'oldy2', 'tracking_flag', 'filename'],\n      dtype='object')"
     },
     "execution_count": 22,
     "metadata": {},
     "output_type": "execute_result"
    }
   ],
   "source": [
    "database.columns"
   ]
  },
  {
   "cell_type": "markdown",
   "metadata": {},
   "source": [
    "# Save missing images to csv"
   ]
  },
  {
   "cell_type": "code",
   "execution_count": 54,
   "metadata": {},
   "outputs": [],
   "source": [
    "# This is used for generation of missing images\n",
    "database.to_csv(f\"missingImages {datetime.datetime.now().replace(microsecond=0)}\", index=False)"
   ]
  }
 ],
 "metadata": {
  "kernelspec": {
   "display_name": "Python 3",
   "language": "python",
   "name": "python3"
  },
  "language_info": {
   "codemirror_mode": {
    "name": "ipython",
    "version": 3
   },
   "file_extension": ".py",
   "mimetype": "text/x-python",
   "name": "python",
   "nbconvert_exporter": "python",
   "pygments_lexer": "ipython3",
   "version": "3.7.3-final"
  }
 },
 "nbformat": 4,
 "nbformat_minor": 4
}