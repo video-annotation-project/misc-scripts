{
 "cells": [
  {
   "cell_type": "code",
   "execution_count": 5,
   "metadata": {},
   "outputs": [],
   "source": [
    "import datetime\n",
    "import psycopg2 # Postgresql\n",
    "import pandas as pd # Ez table management\n",
    "from dotenv import load_dotenv # Load .env strings\n",
    "import os # console commands\n",
    "import boto3 # AWS querier"
   ]
  },
  {
   "cell_type": "code",
   "execution_count": 13,
   "metadata": {},
   "outputs": [
    {
     "name": "stdout",
     "output_type": "stream",
     "text": [
      "lubomirstanchev\n"
     ]
    }
   ],
   "source": [
    "# Note: .env file should be in the top-level directory of the repo\n",
    "load_dotenv(dotenv_path=\"./.env\")\n",
    "S3_BUCKET = os.getenv('AWS_S3_BUCKET_NAME')\n",
    "SRC_IMG_FOLDER = os.getenv('AWS_S3_BUCKET_ANNOTATIONS_FOLDER')\n",
    "DB_NAME = os.getenv(\"DB_NAME\")\n",
    "DB_HOST = os.getenv(\"DB_HOST\")\n",
    "DB_USER = os.getenv(\"DB_USER\")\n",
    "DB_PASSWORD = os.getenv(\"DB_PASSWORD\")\n",
    "A_KEY = os.getenv(\"AWS_ACCESS_KEY_ID\")\n",
    "A_SEC = os.getenv(\"AWS_SECRET_ACCESS_KEY\")\n",
    "print(S3_BUCKET)"
   ]
  },
  {
   "cell_type": "code",
   "execution_count": 14,
   "metadata": {},
   "outputs": [],
   "source": [
    "# Connect to database using .env variables\n",
    "def queryDB(query, params=None):\n",
    "    conn = psycopg2.connect(database = DB_NAME,\n",
    "                        user = DB_USER,\n",
    "                        password = DB_PASSWORD,\n",
    "                        host = DB_HOST,\n",
    "                        port = \"5432\")\n",
    "    # Use pandas to read queries into a dataframe\n",
    "    result = pd.read_sql_query(query, conn, params=params)\n",
    "    conn.close() # Close postgresql\n",
    "    return result"
   ]
  },
  {
   "cell_type": "markdown",
   "metadata": {},
   "source": [
    "# Remove old csv of s3Images"
   ]
  },
  {
   "cell_type": "code",
   "execution_count": 15,
   "metadata": {},
   "outputs": [],
   "source": [
    "# Remove old s3Images\n",
    "os.remove('./csv/s3Images.csv')"
   ]
  },
  {
   "cell_type": "markdown",
   "metadata": {},
   "source": [
    "# Create csv of image names in lubo's s3 bucket"
   ]
  },
  {
   "cell_type": "code",
   "execution_count": 16,
   "metadata": {},
   "outputs": [],
   "source": [
    "# Get all the image filename\n",
    "with open('./csv/s3Images.csv','a') as fd:\n",
    "    # Connect to AWS\n",
    "    session = boto3.Session(aws_access_key_id = A_KEY, aws_secret_access_key = A_SEC)\n",
    "    # Access simple storage and s3 bucket\n",
    "    s3 = session.resource('s3')\n",
    "    bucket = s3.Bucket(\"lubomirstanchev\")\n",
    "    # Iterate through bucket folder test\n",
    "    for index, obj in enumerate(bucket.objects.filter(Delimiter='/',Prefix='test/')):\n",
    "        if index >= 1:\n",
    "            # Make csv of images in s3 bucket\n",
    "            fd.write(obj.key + '\\n')"
   ]
  },
  {
   "cell_type": "markdown",
   "metadata": {},
   "source": [
    "# Get all annotations from database"
   ]
  },
  {
   "cell_type": "code",
   "execution_count": 17,
   "metadata": {},
   "outputs": [],
   "source": [
    "annotation_rows = queryDB('''\n",
    "    Select\n",
    "        annotations.*, videos.filename\n",
    "    FROM\n",
    "        annotations\n",
    "    LEFT JOIN\n",
    "        videos\n",
    "    ON\n",
    "        videos.id=videoid\n",
    "''')"
   ]
  },
  {
   "cell_type": "markdown",
   "metadata": {},
   "source": [
    "# Read in s3 image names into memory"
   ]
  },
  {
   "cell_type": "code",
   "execution_count": 20,
   "metadata": {},
   "outputs": [],
   "source": [
    "current_time = datetime.datetime.now().strftime(\"%b %d %H:%M\")\n",
    "s3Images = pd.read_csv(f\"./csv/s3Images {current_time}.csv\", header=None)\n",
    "# Remove extra path info in s3 images names\n",
    "s3Images[0] = s3Images[0].str.split('/', expand=True)[1]\n",
    "s3Images = s3Images[0]"
   ]
  },
  {
   "cell_type": "markdown",
   "metadata": {},
   "source": [
    "# Number of annotations in database"
   ]
  },
  {
   "cell_type": "code",
   "execution_count": 21,
   "metadata": {},
   "outputs": [
    {
     "data": {
      "text/plain": [
       "(2340907, 29)"
      ]
     },
     "execution_count": 21,
     "metadata": {},
     "output_type": "execute_result"
    }
   ],
   "source": [
    "annotation_rows.shape"
   ]
  },
  {
   "cell_type": "markdown",
   "metadata": {},
   "source": [
    "# Remove images that exist in the s3 bucket"
   ]
  },
  {
   "cell_type": "code",
   "execution_count": 22,
   "metadata": {},
   "outputs": [],
   "source": [
    "annotation_rows_no_s3img = annotation_rows[~(annotation_rows.image.isin(s3Images) & annotation_rows.imagewithbox.isin(s3Images))]"
   ]
  },
  {
   "cell_type": "markdown",
   "metadata": {},
   "source": [
    "# Number of images that are missing from the s3 bucket"
   ]
  },
  {
   "cell_type": "code",
   "execution_count": 23,
   "metadata": {},
   "outputs": [
    {
     "name": "stdout",
     "output_type": "stream",
     "text": [
      "There are 2340907 missing images\n"
     ]
    }
   ],
   "source": [
    "print(f\"There are {annotation_rows_no_s3img.shape[0]} missing images\")"
   ]
  },
  {
   "cell_type": "markdown",
   "metadata": {},
   "source": [
    "# Explore info about missing images"
   ]
  },
  {
   "cell_type": "code",
   "execution_count": 24,
   "metadata": {},
   "outputs": [
    {
     "data": {
      "text/plain": [
       "32     2298413\n",
       "15       20947\n",
       "12        8139\n",
       "11        6382\n",
       "6         5023\n",
       "13        1453\n",
       "16         337\n",
       "4           79\n",
       "5           40\n",
       "171         28\n",
       "569         17\n",
       "7           13\n",
       "14          10\n",
       "9           10\n",
       "8            7\n",
       "125          3\n",
       "10           3\n",
       "27           2\n",
       "272          1\n",
       "Name: userid, dtype: int64"
      ]
     },
     "execution_count": 24,
     "metadata": {},
     "output_type": "execute_result"
    }
   ],
   "source": [
    "annotation_rows_no_s3img.userid.value_counts()"
   ]
  },
  {
   "cell_type": "code",
   "execution_count": 25,
   "metadata": {},
   "outputs": [
    {
     "data": {
      "text/plain": [
       "2136    365957\n",
       "347     362462\n",
       "383     308351\n",
       "236     279797\n",
       "1948    192183\n",
       "         ...  \n",
       "382          1\n",
       "415          1\n",
       "2600         1\n",
       "1601         1\n",
       "3255         1\n",
       "Name: conceptid, Length: 119, dtype: int64"
      ]
     },
     "execution_count": 25,
     "metadata": {},
     "output_type": "execute_result"
    }
   ],
   "source": [
    "annotation_rows_no_s3img.conceptid.value_counts()"
   ]
  },
  {
   "cell_type": "code",
   "execution_count": 26,
   "metadata": {},
   "outputs": [
    {
     "data": {
      "text/plain": [
       "2019-08-20    356362\n",
       "2019-08-17    324156\n",
       "2019-08-16    313185\n",
       "2019-08-18    292059\n",
       "2019-08-19    290595\n",
       "               ...  \n",
       "2019-09-20         1\n",
       "2019-04-23         1\n",
       "2019-09-18         1\n",
       "2019-05-20         1\n",
       "2019-06-25         1\n",
       "Name: dateannotated, Length: 270, dtype: int64"
      ]
     },
     "execution_count": 26,
     "metadata": {},
     "output_type": "execute_result"
    }
   ],
   "source": [
    "annotation_rows_no_s3img.dateannotated.value_counts()"
   ]
  },
  {
   "cell_type": "code",
   "execution_count": 42,
   "metadata": {},
   "outputs": [
    {
     "data": {
      "text/plain": [
       "Index(['id', 'videoid', 'userid', 'conceptid', 'timeinvideo', 'x1', 'y1', 'x2',\n",
       "       'y2', 'videowidth', 'videoheight', 'dateannotated', 'image',\n",
       "       'imagewithbox', 'comment', 'unsure', 'originalid', 'framenum', 'speed',\n",
       "       'verifieddate', 'verifiedby', 'priority', 'oldconceptid', 'oldx1',\n",
       "       'oldy1', 'oldx2', 'oldy2', 'tracking_flag', 'filename'],\n",
       "      dtype='object')"
      ]
     },
     "execution_count": 42,
     "metadata": {},
     "output_type": "execute_result"
    }
   ],
   "source": [
    "annotation_rows_no_s3img.columns"
   ]
  },
  {
   "cell_type": "markdown",
   "metadata": {},
   "source": [
    "# Save missing images to csv"
   ]
  },
  {
   "cell_type": "code",
   "execution_count": 43,
   "metadata": {},
   "outputs": [],
   "source": [
    "# This is used for generation of missing images\n",
    "current_time = datetime.datetime.now().strftime(\"%b %d %H:%M\")\n",
    "annotation_rows_no_s3img.to_csv(f\"./csv/annotations_no_s3img {current_time}.csv\", index=False)"
   ]
  },
  {
   "cell_type": "code",
   "execution_count": null,
   "metadata": {},
   "outputs": [],
   "source": []
  }
 ],
 "metadata": {
  "kernelspec": {
   "display_name": "Python 3",
   "language": "python",
   "name": "python3"
  },
  "language_info": {
   "codemirror_mode": {
    "name": "ipython",
    "version": 3
   },
   "file_extension": ".py",
   "mimetype": "text/x-python",
   "name": "python",
   "nbconvert_exporter": "python",
   "pygments_lexer": "ipython3",
   "version": "3.7.3"
  }
 },
 "nbformat": 4,
 "nbformat_minor": 4
}
