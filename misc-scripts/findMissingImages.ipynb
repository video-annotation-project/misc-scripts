{
 "cells": [
  {
   "cell_type": "code",
   "execution_count": null,
   "metadata": {},
   "outputs": [],
   "source": [
    "import datetime\n",
    "import psycopg2 # Postgresql\n",
    "import pandas as pd # Ez table management\n",
    "from dotenv import load_dotenv # Load .env strings\n",
    "import os # console commands\n",
    "import boto3 # AWS querier"
   ]
  },
  {
   "cell_type": "code",
   "execution_count": null,
   "metadata": {},
   "outputs": [
    {
     "name": "stdout",
     "output_type": "stream",
     "text": [
      "lubomirstanchev\n"
     ]
    }
   ],
   "source": [
    "# Note: .env file should be in the parent directory of the repo, in a folder called\n",
    "# video-annotation-project. This folder contains repos video-annotation-tool and \n",
    "# misc-scripts\n",
    "load_dotenv(dotenv_path=\"../.env\")\n",
    "S3_BUCKET = os.getenv('AWS_S3_BUCKET_NAME')\n",
    "SRC_IMG_FOLDER = os.getenv('AWS_S3_BUCKET_ANNOTATIONS_FOLDER')\n",
    "DB_NAME = os.getenv(\"DB_NAME\")\n",
    "DB_HOST = os.getenv(\"DB_HOST\")\n",
    "DB_USER = os.getenv(\"DB_USER\")\n",
    "DB_PASSWORD = os.getenv(\"DB_PASSWORD\")\n",
    "A_KEY = os.getenv(\"AWS_ACCESS_KEY_ID\")\n",
    "A_SEC = os.getenv(\"AWS_SECRET_ACCESS_KEY\")\n",
    "print(S3_BUCKET)"
   ]
  },
  {
   "cell_type": "code",
   "execution_count": null,
   "metadata": {},
   "outputs": [],
   "source": [
    "# Connect to database using .env variables\n",
    "def queryDB(query, params=None):\n",
    "    conn = psycopg2.connect(database = DB_NAME,\n",
    "                        user = DB_USER,\n",
    "                        password = DB_PASSWORD,\n",
    "                        host = DB_HOST,\n",
    "                        port = \"5432\")\n",
    "    # Use pandas to read queries into a dataframe\n",
    "    result = pd.read_sql_query(query, conn, params=params)\n",
    "    conn.close() # Close postgresql\n",
    "    return result"
   ]
  },
  {
   "cell_type": "markdown",
   "metadata": {},
   "source": [
    "# Get all annotations from database"
   ]
  },
  {
   "cell_type": "code",
   "execution_count": null,
   "metadata": {},
   "outputs": [],
   "source": [
    "annotation_rows = queryDB('''\n",
    "    Select\n",
    "        annotations.*, videos.filename\n",
    "    FROM\n",
    "        annotations\n",
    "    LEFT JOIN\n",
    "        videos\n",
    "    ON\n",
    "        videos.id=videoid\n",
    "''')\n",
    "# show number of annotations in database\n",
    "annotation_rows.shape"
   ]
  },
  {
   "cell_type": "markdown",
   "metadata": {},
   "source": [
    "# Create csv of image names in lubo's s3 bucket"
   ]
  },
  {
   "cell_type": "code",
   "execution_count": null,
   "metadata": {},
   "outputs": [],
   "source": [
    "current_time = datetime.datetime.now().strftime(\"%b %d %H:%M\")\n",
    "# Get all the image filename\n",
    "with open(f'./csv/s3Images {current_time}.csv', 'a') as fd:\n",
    "    # Connect to AWS\n",
    "    session = boto3.Session(aws_access_key_id = A_KEY, aws_secret_access_key = A_SEC)\n",
    "    # Access simple storage and s3 bucket\n",
    "    s3 = session.resource('s3')\n",
    "    bucket = s3.Bucket(\"lubomirstanchev\")\n",
    "    # Iterate through bucket folder test\n",
    "    for index, obj in enumerate(bucket.objects.filter(Delimiter='/',Prefix='test/')):\n",
    "        if index >= 1:\n",
    "            # Make csv of images in s3 bucket\n",
    "            fd.write(obj.key + '\\n')"
   ]
  },
  {
   "cell_type": "markdown",
   "metadata": {},
   "source": [
    "# Read in s3 image names into memory"
   ]
  },
  {
   "cell_type": "code",
   "execution_count": null,
   "metadata": {},
   "outputs": [],
   "source": [
    "s3Images = pd.read_csv(f\"./csv/s3Images {current_time}.csv\", header=None)\n",
    "# Remove extra path info in s3 images names\n",
    "s3Images[0] = s3Images[0].str.split('/', expand=True)[1]\n",
    "s3Images = s3Images[0]\n",
    "s3Images.shape"
   ]
  },
  {
   "cell_type": "markdown",
   "metadata": {},
   "source": [
    "# Remove images that exist in the s3 bucket"
   ]
  },
  {
   "cell_type": "code",
   "execution_count": null,
   "metadata": {},
   "outputs": [],
   "source": [
    "annotation_rows_no_s3img = annotation_rows[~(annotation_rows.image.isin(s3Images))]"
   ]
  },
  {
   "cell_type": "markdown",
   "metadata": {},
   "source": [
    "# Number of images that are missing from the s3 bucket"
   ]
  },
  {
   "cell_type": "code",
   "execution_count": null,
   "metadata": {},
   "outputs": [],
   "source": [
    "print(f\"There are {annotation_rows_no_s3img.shape[0]} missing images\")"
   ]
  },
  {
   "cell_type": "markdown",
   "metadata": {},
   "source": [
    "# Explore info about missing images"
   ]
  },
  {
   "cell_type": "code",
   "execution_count": null,
   "metadata": {},
   "outputs": [],
   "source": [
    "annotation_rows_no_s3img.userid.value_counts()"
   ]
  },
  {
   "cell_type": "code",
   "execution_count": null,
   "metadata": {},
   "outputs": [],
   "source": [
    "annotation_rows_no_s3img.conceptid.value_counts()"
   ]
  },
  {
   "cell_type": "code",
   "execution_count": null,
   "metadata": {},
   "outputs": [],
   "source": [
    "annotation_rows_no_s3img.dateannotated.value_counts()"
   ]
  },
  {
   "cell_type": "code",
   "execution_count": null,
   "metadata": {},
   "outputs": [],
   "source": [
    "annotation_rows_no_s3img.columns"
   ]
  },
  {
   "cell_type": "markdown",
   "metadata": {},
   "source": [
    "# Save missing images to csv"
   ]
  },
  {
   "cell_type": "code",
   "execution_count": null,
   "metadata": {},
   "outputs": [],
   "source": [
    "# This is used for generation of missing images\n",
    "current_time = datetime.datetime.now().strftime(\"%b %d %H:%M\")\n",
    "annotation_rows_no_s3img.to_csv(f\"./csv/annotations_no_s3img {current_time}.csv\", index=False)"
   ]
  },
  {
   "cell_type": "code",
   "execution_count": null,
   "metadata": {},
   "outputs": [],
   "source": []
  }
 ],
 "metadata": {
  "kernelspec": {
   "display_name": "Python 3",
   "language": "python",
   "name": "python3"
  },
  "language_info": {
   "codemirror_mode": {
    "name": "ipython",
    "version": 3
   },
   "file_extension": ".py",
   "mimetype": "text/x-python",
   "name": "python",
   "nbconvert_exporter": "python",
   "pygments_lexer": "ipython3",
   "version": "3.7.3"
  }
 },
 "nbformat": 4,
 "nbformat_minor": 4
}
